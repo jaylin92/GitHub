{
 "cells": [
  {
   "cell_type": "code",
   "execution_count": 6,
   "metadata": {
    "collapsed": false
   },
   "outputs": [
    {
     "name": "stdout",
     "output_type": "stream",
     "text": [
      "['female']\n"
     ]
    }
   ],
   "source": [
    "from sklearn import tree\n",
    "\n",
    "#[height, weight, shoe size]\n",
    "x= [[ 181,80, 44],[177, 70, 43],[160,60, 38],[154,54,37],\n",
    "   [166,65,40],[190,90,47],[175,64,39],[177,70,40],[159,55,37],\n",
    "   [171,75,42],[81,85,43]]\n",
    "y= ['male','female','female','female','male','male',\n",
    "    'male','female','male','female','male']\n",
    "clf= tree.DecisionTreeClassifier()\n",
    "clf = clf.fit(x,y)\n",
    "prediction = clf.predict([[190,70,43]])\n",
    "print prediction"
   ]
  }
 ],
 "metadata": {
  "kernelspec": {
   "display_name": "Python 2",
   "language": "python",
   "name": "python2"
  },
  "language_info": {
   "codemirror_mode": {
    "name": "ipython",
    "version": 2
   },
   "file_extension": ".py",
   "mimetype": "text/x-python",
   "name": "python",
   "nbconvert_exporter": "python",
   "pygments_lexer": "ipython2",
   "version": "2.7.13"
  }
 },
 "nbformat": 4,
 "nbformat_minor": 2
}
